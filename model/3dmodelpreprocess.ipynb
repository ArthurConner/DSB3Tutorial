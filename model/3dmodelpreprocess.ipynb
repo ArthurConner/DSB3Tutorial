{
 "cells": [
  {
   "cell_type": "code",
   "execution_count": 1,
   "metadata": {
    "collapsed": false,
    "scrolled": true
   },
   "outputs": [
    {
     "name": "stdout",
     "output_type": "stream",
     "text": [
      "Using matplotlib backend: Qt5Agg\n",
      "Populating the interactive namespace from numpy and matplotlib\n"
     ]
    },
    {
     "name": "stderr",
     "output_type": "stream",
     "text": [
      "Using TensorFlow backend.\n"
     ]
    },
    {
     "data": {
      "text/plain": [
       "<module 'common' from '/home/arthur/kaggle/mine/DSB3Tutorial/model/common.py'>"
      ]
     },
     "execution_count": 1,
     "metadata": {},
     "output_type": "execute_result"
    }
   ],
   "source": [
    "%pylab --no-import-all\n",
    "%matplotlib inline\n",
    "\n",
    "import pandas as pd\n",
    "import matplotlib.pyplot as plt\n",
    "import numpy as np\n",
    "\n",
    "from keras.utils.data_utils import get_file\n",
    "from keras import backend as K\n",
    "from keras.layers.normalization import BatchNormalization\n",
    "from keras.utils.data_utils import get_file\n",
    "from keras.models import Sequential\n",
    "from keras.layers.core import Flatten, Dense, Dropout, Lambda\n",
    "from keras.layers.convolutional import Convolution2D, MaxPooling2D, ZeroPadding2D\n",
    "from keras.layers.convolutional import Convolution3D, MaxPooling3D, ZeroPadding3D\n",
    "from keras.layers.pooling import GlobalAveragePooling2D\n",
    "from keras.optimizers import SGD, RMSprop, Adam\n",
    "from keras.preprocessing import image\n",
    "import common as localUtils\n",
    "\n",
    "from importlib import reload\n",
    "reload(localUtils)"
   ]
  },
  {
   "cell_type": "code",
   "execution_count": 2,
   "metadata": {
    "collapsed": false
   },
   "outputs": [],
   "source": [
    "images_path = '/data1/cancer/KAG2017/stage1_scaled/64'\n",
    "tSet = localUtils.TrainSet(images_path)"
   ]
  },
  {
   "cell_type": "code",
   "execution_count": null,
   "metadata": {
    "collapsed": false
   },
   "outputs": [],
   "source": []
  },
  {
   "cell_type": "code",
   "execution_count": 3,
   "metadata": {
    "collapsed": false
   },
   "outputs": [
    {
     "data": {
      "image/png": "[encoded data removed]",
      "text/plain": [
       "<matplotlib.figure.Figure at 0x7fa33141a9b0>"
      ]
     },
     "metadata": {},
     "output_type": "display_data"
    }
   ],
   "source": [
    "recoverimage = tSet.X_train[0]\n",
    "pylab.imshow(recoverimage[32], cmap=pylab.cm.bone)\n",
    "pylab.show()"
   ]
  },
  {
   "cell_type": "code",
   "execution_count": null,
   "metadata": {
    "collapsed": false
   },
   "outputs": [],
   "source": []
  },
  {
   "cell_type": "code",
   "execution_count": 4,
   "metadata": {
    "collapsed": false
   },
   "outputs": [],
   "source": [
    "class Vg3():\n",
    "    \"\"\"The Vg3 16 Imagenet model\"\"\"\n",
    "\n",
    "    def __init__(self,shape,comment=\"here we go\"):\n",
    "        self.create(shape)\n",
    "        self.meta = {\"shape\":str(shape),comment:comment}\n",
    "   \n",
    "\n",
    "    def predict(self, imgs, details=False):\n",
    "        all_preds = self.model.predict(imgs)\n",
    "        idxs = np.argmax(all_preds, axis=1)\n",
    "        return np.array(preds), idxs\n",
    "    \n",
    "    def model_preprocess(self, x):\n",
    "        return x\n",
    "\n",
    "    def ConvBlock(self, layers, filters):\n",
    "        model = self.model\n",
    "        for i in range(layers):\n",
    "            model.add(ZeroPadding2D((1, 1)))\n",
    "            model.add(Convolution2D(filters, 3, 3, activation='relu'))\n",
    "        model.add(MaxPooling2D((2, 2), strides=(2, 2)))\n",
    "\n",
    "\n",
    "    def Conv3DBlock(self, layers, filters):\n",
    "        model = self.model\n",
    "        for i in range(layers):\n",
    "            model.add(ZeroPadding3D((1, 1,1)))\n",
    "            model.add(Convolution3D(filters, 3, 3, 3, border_mode='same', activation='relu', dim_ordering='th'))\n",
    "        model.add(MaxPooling3D((2, 2, 2), (2, 2, 2), dim_ordering='th'))\n",
    "        \n",
    "    def FCBlock(self):\n",
    "        model = self.model\n",
    "        model.add(Dense(4096, activation='relu'))\n",
    "        model.add(BatchNormalization())\n",
    "        model.add(Dropout(0.5))\n",
    "\n",
    "\n",
    "    def create(self, shape):\n",
    "\n",
    "        model = self.model = Sequential()\n",
    "        model.add(ZeroPadding3D((1, 1,1),input_shape=shape))\n",
    "        self.Conv3DBlock(2, 4)\n",
    "        self.Conv3DBlock(1, 8)\n",
    "        self.Conv3DBlock(2,32)\n",
    "        \n",
    "        #self.Conv3DBlock(5, 16)\n",
    "        self.Conv3DBlock(3, 32)\n",
    "        #self.ConvBlock(2, 128)\n",
    "        #self.ConvBlock(3, 256)\n",
    "        #self.ConvBlock(3, 512)\n",
    "        #self.ConvBlock(3, 512)\n",
    "\n",
    "        model.add(Flatten())\n",
    "        #model.add(Dense(64, activation='relu'))\n",
    "        #model.add(BatchNormalization())\n",
    "        self.FCBlock()\n",
    "        #model.add(BatchNormalization())\n",
    "        #self.FCBlock()\n",
    "        model.add(Dense(1, init='normal', activation='sigmoid'))\n",
    "\n",
    "\n",
    "    def fit(self, batches, val_batches, nb_epoch=1):\n",
    "        self.model.fit_generator(batches, samples_per_epoch=batches.nb_sample, nb_epoch=nb_epoch,\n",
    "                validation_data=val_batches, nb_val_samples=val_batches.nb_sample)\n",
    "\n",
    "\n",
    "    def test(self, path, batch_size=8):\n",
    "        test_batches = self.get_batches(path, shuffle=False, batch_size=batch_size, class_mode=None)\n",
    "        return test_batches, self.model.predict_generator(test_batches, test_batches.nb_sample)\n"
   ]
  },
  {
   "cell_type": "code",
   "execution_count": 5,
   "metadata": {
    "collapsed": false,
    "scrolled": true
   },
   "outputs": [
    {
     "name": "stdout",
     "output_type": "stream",
     "text": [
      "(1, 64, 64, 64)\n",
      "____________________________________________________________________________________________________\n",
      "Layer (type)                     Output Shape          Param #     Connected to                     \n",
      "====================================================================================================\n",
      "zeropadding3d_1 (ZeroPadding3D)  (None, 1, 66, 66, 66) 0           zeropadding3d_input_1[0][0]      \n",
      "____________________________________________________________________________________________________\n",
      "zeropadding3d_2 (ZeroPadding3D)  (None, 1, 68, 68, 68) 0           zeropadding3d_1[0][0]            \n",
      "____________________________________________________________________________________________________\n",
      "convolution3d_1 (Convolution3D)  (None, 4, 68, 68, 68) 112         zeropadding3d_2[0][0]            \n",
      "____________________________________________________________________________________________________\n",
      "zeropadding3d_3 (ZeroPadding3D)  (None, 4, 70, 70, 70) 0           convolution3d_1[0][0]            \n",
      "____________________________________________________________________________________________________\n",
      "convolution3d_2 (Convolution3D)  (None, 4, 70, 70, 70) 436         zeropadding3d_3[0][0]            \n",
      "____________________________________________________________________________________________________\n",
      "maxpooling3d_1 (MaxPooling3D)    (None, 4, 35, 35, 35) 0           convolution3d_2[0][0]            \n",
      "____________________________________________________________________________________________________\n",
      "zeropadding3d_4 (ZeroPadding3D)  (None, 4, 37, 37, 37) 0           maxpooling3d_1[0][0]             \n",
      "____________________________________________________________________________________________________\n",
      "convolution3d_3 (Convolution3D)  (None, 8, 37, 37, 37) 872         zeropadding3d_4[0][0]            \n",
      "____________________________________________________________________________________________________\n",
      "maxpooling3d_2 (MaxPooling3D)    (None, 8, 18, 18, 18) 0           convolution3d_3[0][0]            \n",
      "____________________________________________________________________________________________________\n",
      "zeropadding3d_5 (ZeroPadding3D)  (None, 8, 20, 20, 20) 0           maxpooling3d_2[0][0]             \n",
      "____________________________________________________________________________________________________\n",
      "convolution3d_4 (Convolution3D)  (None, 32, 20, 20, 20 6944        zeropadding3d_5[0][0]            \n",
      "____________________________________________________________________________________________________\n",
      "zeropadding3d_6 (ZeroPadding3D)  (None, 32, 22, 22, 22 0           convolution3d_4[0][0]            \n",
      "____________________________________________________________________________________________________\n",
      "convolution3d_5 (Convolution3D)  (None, 32, 22, 22, 22 27680       zeropadding3d_6[0][0]            \n",
      "____________________________________________________________________________________________________\n",
      "maxpooling3d_3 (MaxPooling3D)    (None, 32, 11, 11, 11 0           convolution3d_5[0][0]            \n",
      "____________________________________________________________________________________________________\n",
      "zeropadding3d_7 (ZeroPadding3D)  (None, 32, 13, 13, 13 0           maxpooling3d_3[0][0]             \n",
      "____________________________________________________________________________________________________\n",
      "convolution3d_6 (Convolution3D)  (None, 32, 13, 13, 13 27680       zeropadding3d_7[0][0]            \n",
      "____________________________________________________________________________________________________\n",
      "zeropadding3d_8 (ZeroPadding3D)  (None, 32, 15, 15, 15 0           convolution3d_6[0][0]            \n",
      "____________________________________________________________________________________________________\n",
      "convolution3d_7 (Convolution3D)  (None, 32, 15, 15, 15 27680       zeropadding3d_8[0][0]            \n",
      "____________________________________________________________________________________________________\n",
      "zeropadding3d_9 (ZeroPadding3D)  (None, 32, 17, 17, 17 0           convolution3d_7[0][0]            \n",
      "____________________________________________________________________________________________________\n",
      "convolution3d_8 (Convolution3D)  (None, 32, 17, 17, 17 27680       zeropadding3d_9[0][0]            \n",
      "____________________________________________________________________________________________________\n",
      "maxpooling3d_4 (MaxPooling3D)    (None, 32, 8, 8, 8)   0           convolution3d_8[0][0]            \n",
      "____________________________________________________________________________________________________\n",
      "flatten_1 (Flatten)              (None, 16384)         0           maxpooling3d_4[0][0]             \n",
      "____________________________________________________________________________________________________\n",
      "dense_1 (Dense)                  (None, 4096)          67112960    flatten_1[0][0]                  \n",
      "____________________________________________________________________________________________________\n",
      "batchnormalization_1 (BatchNorma (None, 4096)          16384       dense_1[0][0]                    \n",
      "____________________________________________________________________________________________________\n",
      "dropout_1 (Dropout)              (None, 4096)          0           batchnormalization_1[0][0]       \n",
      "____________________________________________________________________________________________________\n",
      "dense_2 (Dense)                  (None, 1)             4097        dropout_1[0][0]                  \n",
      "====================================================================================================\n",
      "Total params: 67,252,525\n",
      "Trainable params: 67,244,333\n",
      "Non-trainable params: 8,192\n",
      "____________________________________________________________________________________________________\n"
     ]
    }
   ],
   "source": [
    "print(tSet.X_train3d[0].shape)\n",
    "vg =  Vg3(tSet.trainX()[0].shape,\"Trying with fc\")\n",
    "vg.model.summary()"
   ]
  },
  {
   "cell_type": "code",
   "execution_count": 6,
   "metadata": {
    "collapsed": false
   },
   "outputs": [],
   "source": [
    "vg.model.compile(optimizer=Adam(), loss='binary_crossentropy', metrics=['accuracy'])"
   ]
  },
  {
   "cell_type": "code",
   "execution_count": 7,
   "metadata": {
    "collapsed": false,
    "scrolled": false
   },
   "outputs": [
    {
     "name": "stdout",
     "output_type": "stream",
     "text": [
      "Train on 841 samples, validate on 94 samples\n",
      "Epoch 1/5\n",
      "841/841 [==============================] - 38s - loss: 0.5907 - acc: 0.7265 - val_loss: 3.4294 - val_acc: 0.7872\n",
      "Epoch 2/5\n",
      "841/841 [==============================] - 37s - loss: 0.5823 - acc: 0.7348 - val_loss: 3.4294 - val_acc: 0.7872\n",
      "Epoch 3/5\n",
      "841/841 [==============================] - 37s - loss: 0.5798 - acc: 0.7348 - val_loss: 3.4294 - val_acc: 0.7872\n",
      "Epoch 4/5\n",
      "841/841 [==============================] - 37s - loss: 0.5806 - acc: 0.7348 - val_loss: 3.4294 - val_acc: 0.7872\n",
      "Epoch 5/5\n",
      "841/841 [==============================] - 37s - loss: 0.5799 - acc: 0.7348 - val_loss: 3.4294 - val_acc: 0.7872\n",
      "we have accuracy 0.742424242424\n",
      "Confusion matrix, without normalization\n",
      "[[343   0]\n",
      " [119   0]]\n",
      "we have accuracy 0.740106951872\n",
      "Confusion matrix, without normalization\n",
      "[[692   0]\n",
      " [243   0]]\n"
     ]
    },
    {
     "data": {
      "image/png": "[encoded data removed]",
      "text/plain": [
       "<matplotlib.figure.Figure at 0x7fa29e4c16d8>"
      ]
     },
     "metadata": {},
     "output_type": "display_data"
    },
    {
     "data": {
      "image/png": "[encoded data removed]",
      "text/plain": [
       "<matplotlib.figure.Figure at 0x7fa29d4fe7f0>"
      ]
     },
     "metadata": {},
     "output_type": "display_data"
    }
   ],
   "source": [
    "localUtils.evaluate(vg,tSet,\"basic3d\",nb_epoch=5)\n",
    "plt.show()"
   ]
  },
  {
   "cell_type": "code",
   "execution_count": null,
   "metadata": {
    "collapsed": false
   },
   "outputs": [],
   "source": []
  },
  {
   "cell_type": "code",
   "execution_count": null,
   "metadata": {
    "collapsed": false
   },
   "outputs": [],
   "source": []
  },
  {
   "cell_type": "code",
   "execution_count": null,
   "metadata": {
    "collapsed": false
   },
   "outputs": [],
   "source": []
  },
  {
   "cell_type": "code",
   "execution_count": null,
   "metadata": {
    "collapsed": false
   },
   "outputs": [],
   "source": []
  },
  {
   "cell_type": "code",
   "execution_count": null,
   "metadata": {
    "collapsed": false
   },
   "outputs": [],
   "source": []
  },
  {
   "cell_type": "code",
   "execution_count": null,
   "metadata": {
    "collapsed": false
   },
   "outputs": [],
   "source": []
  },
  {
   "cell_type": "code",
   "execution_count": null,
   "metadata": {
    "collapsed": false
   },
   "outputs": [],
   "source": []
  },
  {
   "cell_type": "code",
   "execution_count": null,
   "metadata": {
    "collapsed": false,
    "scrolled": true
   },
   "outputs": [],
   "source": [
    "\n"
   ]
  },
  {
   "cell_type": "code",
   "execution_count": null,
   "metadata": {
    "collapsed": false
   },
   "outputs": [],
   "source": []
  },
  {
   "cell_type": "code",
   "execution_count": null,
   "metadata": {
    "collapsed": false
   },
   "outputs": [],
   "source": []
  },
  {
   "cell_type": "code",
   "execution_count": null,
   "metadata": {
    "collapsed": false
   },
   "outputs": [],
   "source": []
  },
  {
   "cell_type": "code",
   "execution_count": null,
   "metadata": {
    "collapsed": true
   },
   "outputs": [],
   "source": []
  },
  {
   "cell_type": "code",
   "execution_count": null,
   "metadata": {
    "collapsed": false
   },
   "outputs": [],
   "source": []
  },
  {
   "cell_type": "code",
   "execution_count": null,
   "metadata": {
    "collapsed": false
   },
   "outputs": [],
   "source": []
  },
  {
   "cell_type": "code",
   "execution_count": null,
   "metadata": {
    "collapsed": false
   },
   "outputs": [],
   "source": []
  },
  {
   "cell_type": "code",
   "execution_count": null,
   "metadata": {
    "collapsed": false
   },
   "outputs": [],
   "source": []
  },
  {
   "cell_type": "code",
   "execution_count": null,
   "metadata": {
    "collapsed": false
   },
   "outputs": [],
   "source": []
  }
 ],
 "metadata": {
  "anaconda-cloud": {},
  "kernelspec": {
   "display_name": "Python [conda env:lung3]",
   "language": "python",
   "name": "conda-env-lung3-py"
  },
  "language_info": {
   "codemirror_mode": {
    "name": "ipython",
    "version": 3
   },
   "file_extension": ".py",
   "mimetype": "text/x-python",
   "name": "python",
   "nbconvert_exporter": "python",
   "pygments_lexer": "ipython3",
   "version": "3.5.2"
  }
 },
 "nbformat": 4,
 "nbformat_minor": 1
}
