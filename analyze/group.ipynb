{
 "cells": [
  {
   "cell_type": "markdown",
   "metadata": {},
   "source": [
    "### Evaluating different runs"
   ]
  },
  {
   "cell_type": "code",
   "execution_count": 38,
   "metadata": {
    "collapsed": false
   },
   "outputs": [
    {
     "name": "stdout",
     "output_type": "stream",
     "text": [
      "Using matplotlib backend: Qt5Agg\n",
      "Populating the interactive namespace from numpy and matplotlib\n"
     ]
    }
   ],
   "source": [
    "%pylab --no-import-all\n",
    "%matplotlib inline\n",
    "\n",
    "import numpy as np\n",
    "import pandas as pd\n",
    "import os\n",
    "import bcolz\n",
    "import itertools\n",
    "import matplotlib.pyplot as plt\n",
    "from keras.models import load_model\n",
    "from keras.models import model_from_json\n",
    "from datetime import datetime\n",
    "import json\n",
    "\n",
    "def save_array(fname, arr): c=bcolz.carray(arr, rootdir=fname, mode='w'); c.flush()\n",
    "def load_array(fname): return bcolz.open(fname)[:]\n"
   ]
  },
  {
   "cell_type": "code",
   "execution_count": 39,
   "metadata": {
    "collapsed": true
   },
   "outputs": [],
   "source": [
    "rundir = \"../model/runs/\""
   ]
  },
  {
   "cell_type": "code",
   "execution_count": 40,
   "metadata": {
    "collapsed": false
   },
   "outputs": [
    {
     "data": {
      "text/plain": [
       "['basic2d.2017-01-27-16-14-37']"
      ]
     },
     "execution_count": 40,
     "metadata": {},
     "output_type": "execute_result"
    }
   ],
   "source": [
    "model_runs = os.listdir(rundir)\n",
    "model_runs.sort()\n",
    "\n",
    "model_runs = [ fi for fi in model_runs if  fi.endswith(\".confusion\") ]\n",
    "model_names =   [os.path.splitext(x)[0] for x in model_runs] \n",
    "\n",
    "model_names"
   ]
  },
  {
   "cell_type": "code",
   "execution_count": 41,
   "metadata": {
    "collapsed": false
   },
   "outputs": [],
   "source": [
    "meta = []\n",
    "for name in model_names:\n",
    "    path = os.path.join(rundir,name +\".meta\")\n",
    "\n",
    "    with open(path, 'r') as f:\n",
    "        data = json.load(f)\n",
    "        meta.append(data)\n",
    "    "
   ]
  },
  {
   "cell_type": "code",
   "execution_count": 42,
   "metadata": {
    "collapsed": false
   },
   "outputs": [
    {
     "name": "stdout",
     "output_type": "stream",
     "text": [
      "[{'2d run': '2d run', 'shape': '(64, 64, 64)'}]\n"
     ]
    }
   ],
   "source": [
    "print(meta)"
   ]
  },
  {
   "cell_type": "code",
   "execution_count": null,
   "metadata": {
    "collapsed": true
   },
   "outputs": [],
   "source": []
  },
  {
   "cell_type": "code",
   "execution_count": 43,
   "metadata": {
    "collapsed": false
   },
   "outputs": [
    {
     "name": "stdout",
     "output_type": "stream",
     "text": [
      "../model/runs/basic2d.2017-01-27-16-14-37.model\n"
     ]
    }
   ],
   "source": [
    "mlayers = []\n",
    "for name in model_names:\n",
    "    path = os.path.join(rundir,name + \".model\")\n",
    "    print(path)\n",
    "\n",
    "    with open(path, 'r') as f:\n",
    "        #data = f.read()\n",
    "        data = json.load(f)\n",
    "\n",
    "        layers = []\n",
    "        confing = data[\"config\"]\n",
    "        for x in confing:\n",
    "            #print(x)\n",
    "            base = x[\"class_name\"]\n",
    "            if \"config\" in x:\n",
    "                config = x[\"config\"]\n",
    "                for key in [\"nb_filter\",\"nb_row\",\"nb_col\"]:\n",
    "                    if key in config:\n",
    "                        base = base +\", \" + key +\":\" + str(config[key])\n",
    "\n",
    "            #print()\n",
    "            layers.append(base)\n",
    "        mlayers.append(\"|\".join(layers))\n",
    "    #model = model_from_json(data)\n",
    "    #model.summary()\n"
   ]
  },
  {
   "cell_type": "code",
   "execution_count": null,
   "metadata": {
    "collapsed": true
   },
   "outputs": [],
   "source": []
  },
  {
   "cell_type": "code",
   "execution_count": 44,
   "metadata": {
    "collapsed": false
   },
   "outputs": [
    {
     "data": {
      "text/plain": [
       "[343]"
      ]
     },
     "execution_count": 44,
     "metadata": {},
     "output_type": "execute_result"
    }
   ],
   "source": [
    "tp = []; fp = [] ; fn = []; tn = []; accuracy = []\n",
    "\n",
    "for name in model_names:\n",
    "    path = os.path.join(rundir,name + \".confusion\")\n",
    "    cm = load_array(path)\n",
    "    tp.append(cm[0,0])\n",
    "    fp.append(cm[0,1])\n",
    "    fn.append(cm[1,0])\n",
    "    tn.append(cm[1,1])\n",
    "    accuracy.append((cm[0,0] + cm[1,1] )/ float(cm[0,0] + cm[1,1] + cm[1,0] + cm[0,1] ))\n",
    "    \n",
    "tp"
   ]
  },
  {
   "cell_type": "code",
   "execution_count": 45,
   "metadata": {
    "collapsed": false
   },
   "outputs": [],
   "source": [
    "dataset = pd.DataFrame.from_dict({\"name\":model_names,\"meta\":meta,\"tp\":tp,\"fp\":fp,\"fn\":fn,\"tn\":tn,\"accuracy\":accuracy,'layers':mlayers})"
   ]
  },
  {
   "cell_type": "code",
   "execution_count": 46,
   "metadata": {
    "collapsed": false
   },
   "outputs": [
    {
     "data": {
      "text/html": [
       "<div>\n",
       "<table border=\"1\" class=\"dataframe\">\n",
       "  <thead>\n",
       "    <tr style=\"text-align: right;\">\n",
       "      <th></th>\n",
       "      <th>accuracy</th>\n",
       "      <th>fn</th>\n",
       "      <th>fp</th>\n",
       "      <th>layers</th>\n",
       "      <th>meta</th>\n",
       "      <th>name</th>\n",
       "      <th>tn</th>\n",
       "      <th>tp</th>\n",
       "    </tr>\n",
       "  </thead>\n",
       "  <tbody>\n",
       "    <tr>\n",
       "      <th>0</th>\n",
       "      <td>0.742424</td>\n",
       "      <td>119</td>\n",
       "      <td>0</td>\n",
       "      <td>Lambda|ZeroPadding2D|Convolution2D, nb_filter:...</td>\n",
       "      <td>{'2d run': '2d run', 'shape': '(64, 64, 64)'}</td>\n",
       "      <td>basic2d.2017-01-27-16-14-37</td>\n",
       "      <td>0</td>\n",
       "      <td>343</td>\n",
       "    </tr>\n",
       "  </tbody>\n",
       "</table>\n",
       "</div>"
      ],
      "text/plain": [
       "   accuracy   fn  fp                                             layers  \\\n",
       "0  0.742424  119   0  Lambda|ZeroPadding2D|Convolution2D, nb_filter:...   \n",
       "\n",
       "                                            meta                         name  \\\n",
       "0  {'2d run': '2d run', 'shape': '(64, 64, 64)'}  basic2d.2017-01-27-16-14-37   \n",
       "\n",
       "   tn   tp  \n",
       "0   0  343  "
      ]
     },
     "execution_count": 46,
     "metadata": {},
     "output_type": "execute_result"
    }
   ],
   "source": [
    "dataset.head()\n"
   ]
  },
  {
   "cell_type": "code",
   "execution_count": 47,
   "metadata": {
    "collapsed": false
   },
   "outputs": [],
   "source": [
    "dataset.to_csv(os.path.join(rundir,\"totals.csv\"))"
   ]
  }
 ],
 "metadata": {
  "anaconda-cloud": {},
  "kernelspec": {
   "display_name": "Python [conda env:lung3]",
   "language": "python",
   "name": "conda-env-lung3-py"
  },
  "language_info": {
   "codemirror_mode": {
    "name": "ipython",
    "version": 3
   },
   "file_extension": ".py",
   "mimetype": "text/x-python",
   "name": "python",
   "nbconvert_exporter": "python",
   "pygments_lexer": "ipython3",
   "version": "3.5.2"
  }
 },
 "nbformat": 4,
 "nbformat_minor": 1
}
