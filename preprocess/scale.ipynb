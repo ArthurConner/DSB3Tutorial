{
 "cells": [
  {
   "cell_type": "code",
   "execution_count": null,
   "metadata": {
    "collapsed": true
   },
   "outputs": [],
   "source": []
  },
  {
   "cell_type": "code",
   "execution_count": 1,
   "metadata": {
    "collapsed": false
   },
   "outputs": [
    {
     "name": "stdout",
     "output_type": "stream",
     "text": [
      "Using matplotlib backend: Qt5Agg\n",
      "Populating the interactive namespace from numpy and matplotlib\n"
     ]
    }
   ],
   "source": [
    "%pylab --no-import-all\n",
    "%matplotlib inline\n",
    "import numpy as np\n",
    "import pandas as pd\n",
    "import os\n",
    "import bcolz\n",
    "\n",
    "from scipy.ndimage.interpolation import zoom\n",
    "import time\n",
    "\n",
    "def save_array(fname, arr): c=bcolz.carray(arr, rootdir=fname, mode='w'); c.flush()\n",
    "def load_array(fname): return bcolz.open(fname)[:]\n"
   ]
  },
  {
   "cell_type": "code",
   "execution_count": 2,
   "metadata": {
    "collapsed": true
   },
   "outputs": [],
   "source": [
    "images_path = '/data1/cancer/KAG2017/stage1_process'\n",
    "scale_path = '/data1/cancer/KAG2017/stage1_scaled/128'\n",
    "verticalLayers = 128.0\n",
    "showImages = True"
   ]
  },
  {
   "cell_type": "code",
   "execution_count": 3,
   "metadata": {
    "collapsed": false
   },
   "outputs": [
    {
     "data": {
      "text/plain": [
       "1595"
      ]
     },
     "execution_count": 3,
     "metadata": {},
     "output_type": "execute_result"
    }
   ],
   "source": [
    "patients = os.listdir(images_path)\n",
    "patients.sort()\n",
    "len(patients)"
   ]
  },
  {
   "cell_type": "code",
   "execution_count": 4,
   "metadata": {
    "collapsed": false
   },
   "outputs": [
    {
     "data": {
      "text/html": [
       "<div>\n",
       "<table border=\"1\" class=\"dataframe\">\n",
       "  <thead>\n",
       "    <tr style=\"text-align: right;\">\n",
       "      <th></th>\n",
       "      <th>cancer</th>\n",
       "    </tr>\n",
       "    <tr>\n",
       "      <th>id</th>\n",
       "      <th></th>\n",
       "    </tr>\n",
       "  </thead>\n",
       "  <tbody>\n",
       "    <tr>\n",
       "      <th>0015ceb851d7251b8f399e39779d1e7d</th>\n",
       "      <td>1</td>\n",
       "    </tr>\n",
       "    <tr>\n",
       "      <th>0030a160d58723ff36d73f41b170ec21</th>\n",
       "      <td>0</td>\n",
       "    </tr>\n",
       "    <tr>\n",
       "      <th>003f41c78e6acfa92430a057ac0b306e</th>\n",
       "      <td>0</td>\n",
       "    </tr>\n",
       "    <tr>\n",
       "      <th>006b96310a37b36cccb2ab48d10b49a3</th>\n",
       "      <td>1</td>\n",
       "    </tr>\n",
       "    <tr>\n",
       "      <th>008464bb8521d09a42985dd8add3d0d2</th>\n",
       "      <td>1</td>\n",
       "    </tr>\n",
       "  </tbody>\n",
       "</table>\n",
       "</div>"
      ],
      "text/plain": [
       "                                  cancer\n",
       "id                                      \n",
       "0015ceb851d7251b8f399e39779d1e7d       1\n",
       "0030a160d58723ff36d73f41b170ec21       0\n",
       "003f41c78e6acfa92430a057ac0b306e       0\n",
       "006b96310a37b36cccb2ab48d10b49a3       1\n",
       "008464bb8521d09a42985dd8add3d0d2       1"
      ]
     },
     "execution_count": 4,
     "metadata": {},
     "output_type": "execute_result"
    }
   ],
   "source": [
    "labels_csv = pd.read_csv('/data1/cancer/KAG2017/stage1_labels.csv', index_col='id')\n",
    "labels_csv.head()"
   ]
  },
  {
   "cell_type": "code",
   "execution_count": 5,
   "metadata": {
    "collapsed": false
   },
   "outputs": [
    {
     "name": "stdout",
     "output_type": "stream",
     "text": [
      "1595\n",
      "1595\n"
     ]
    },
    {
     "data": {
      "text/plain": [
       "({-1: 198, 0: 1035, 1: 362}, 1397, 198)"
      ]
     },
     "execution_count": 5,
     "metadata": {},
     "output_type": "execute_result"
    }
   ],
   "source": [
    "lookup = {}\n",
    "for x in patients:\n",
    "    lookup[x] = -1\n",
    "    \n",
    "print(str(len(lookup)))\n",
    "\n",
    "for index, row in labels_csv.iterrows():\n",
    "    if index in  lookup :\n",
    "        lookup[index] = row[\"cancer\"]\n",
    "\n",
    "print(str(len(lookup)))\n",
    "\n",
    "totals = {-1:0,0:0,1:0}\n",
    "bad = []\n",
    "good = []\n",
    "\n",
    "for k , v in lookup.items():\n",
    "    totals[v] = totals[v] + 1\n",
    "    if v < 0:\n",
    "        bad.append(k)\n",
    "    else:\n",
    "        good.append(k)\n",
    "\n",
    "good.sort()\n",
    "totals, len(good), len(bad)"
   ]
  },
  {
   "cell_type": "code",
   "execution_count": 6,
   "metadata": {
    "collapsed": false,
    "scrolled": true
   },
   "outputs": [
    {
     "name": "stdout",
     "output_type": "stream",
     "text": [
      "17:00:53\n"
     ]
    },
    {
     "name": "stderr",
     "output_type": "stream",
     "text": [
      "/home/arthur/anaconda2/envs/lung3/lib/python3.5/site-packages/scipy/ndimage/interpolation.py:568: UserWarning: From scipy 0.13.0, the output shape of zoom() is calculated with round() instead of int() - for these inputs the size of the returned array has changed.\n",
      "  \"the returned array has changed.\", UserWarning)\n"
     ]
    },
    {
     "name": "stdout",
     "output_type": "stream",
     "text": [
      "17:05:22\n",
      "completed 101 out of 1397. last is 12e0e2036f61c8a52ee4471bf813c36a\n",
      "17:09:55\n",
      "completed 202 out of 1397. last is 27e9f8b51aeee67918221f2df98e9cbc\n",
      "17:14:21\n",
      "completed 303 out of 1397. last is 359951e3d2768249211361665b99b735\n",
      "17:18:34\n",
      "completed 404 out of 1397. last is 4a782bbc2608288a3ed05e511af6f8bb\n",
      "17:22:49\n",
      "completed 505 out of 1397. last is 5bf71718aa1bdcada76f0683f8d6b41b\n",
      "17:27:08\n",
      "completed 606 out of 1397. last is 6f43af3f636f37b9695b58378f9265cc\n",
      "17:31:30\n",
      "completed 707 out of 1397. last is 80600d4a5fee7424d689ba7d0906d50f\n",
      "17:35:37\n",
      "completed 808 out of 1397. last is 934f01786c3bdf8eeaf7d8411a3a8f82\n",
      "17:40:06\n",
      "completed 909 out of 1397. last is a79023a82079a7431ef2496acbef29de\n",
      "17:44:15\n",
      "completed 1010 out of 1397. last is baf842dd446ce9d7082efe16d22fb971\n",
      "17:48:30\n",
      "completed 1111 out of 1397. last is caf5e9cd994c3c90727d274dd790133a\n",
      "17:52:43\n",
      "completed 1212 out of 1397. last is de635c85f320131ee743733bb04e65b9\n",
      "17:56:50\n",
      "completed 1313 out of 1397. last is f136a3df63637b499704a49fc0e3dfaf\n",
      "CPU times: user 58min 20s, sys: 1min 35s, total: 59min 56s\n",
      "Wall time: 59min 27s\n"
     ]
    }
   ],
   "source": [
    "%%time\n",
    "\n",
    "counter = 0\n",
    "index = 0\n",
    "bscale = verticalLayers / 512.0\n",
    "\n",
    "print (time.strftime(\"%H:%M:%S\"))\n",
    "for patid in good:\n",
    "\n",
    "    path = os.path.join(images_path,patid,\"\")\n",
    "    destpath = os.path.join(scale_path,patid,\"\")\n",
    "    image = load_array(path)\n",
    "    \n",
    "    scale = verticalLayers / float(image.shape[0])\n",
    "   \n",
    "    saveImage = zoom(image,[scale,bscale,bscale])\n",
    "    save_array(destpath,saveImage)\n",
    "    \n",
    "    counter += 1\n",
    "    index += 1\n",
    "    \n",
    "    if (counter > 100 ):\n",
    "        print (time.strftime(\"%H:%M:%S\"))\n",
    "        counter = 0 \n",
    "        print(\"completed \" + str(index) + \" out of \" + str(len(good)) + \". last is \" + patid)\n",
    "   "
   ]
  },
  {
   "cell_type": "code",
   "execution_count": 7,
   "metadata": {
    "collapsed": false
   },
   "outputs": [],
   "source": [
    "scale_path = '/data1/cancer/KAG2017/stage1_scaled/32'\n",
    "verticalLayers = 32"
   ]
  },
  {
   "cell_type": "code",
   "execution_count": 8,
   "metadata": {
    "collapsed": false
   },
   "outputs": [
    {
     "name": "stdout",
     "output_type": "stream",
     "text": [
      "18:00:21\n"
     ]
    },
    {
     "name": "stderr",
     "output_type": "stream",
     "text": [
      "/home/arthur/anaconda2/envs/lung3/lib/python3.5/site-packages/scipy/ndimage/interpolation.py:568: UserWarning: From scipy 0.13.0, the output shape of zoom() is calculated with round() instead of int() - for these inputs the size of the returned array has changed.\n",
      "  \"the returned array has changed.\", UserWarning)\n"
     ]
    },
    {
     "name": "stdout",
     "output_type": "stream",
     "text": [
      "18:03:17\n",
      "completed 101 out of 1397. last is 12e0e2036f61c8a52ee4471bf813c36a\n",
      "18:06:26\n",
      "completed 202 out of 1397. last is 27e9f8b51aeee67918221f2df98e9cbc\n",
      "18:09:30\n",
      "completed 303 out of 1397. last is 359951e3d2768249211361665b99b735\n",
      "18:12:26\n",
      "completed 404 out of 1397. last is 4a782bbc2608288a3ed05e511af6f8bb\n",
      "18:15:27\n",
      "completed 505 out of 1397. last is 5bf71718aa1bdcada76f0683f8d6b41b\n",
      "18:18:33\n",
      "completed 606 out of 1397. last is 6f43af3f636f37b9695b58378f9265cc\n",
      "18:21:39\n",
      "completed 707 out of 1397. last is 80600d4a5fee7424d689ba7d0906d50f\n",
      "18:24:34\n",
      "completed 808 out of 1397. last is 934f01786c3bdf8eeaf7d8411a3a8f82\n",
      "18:27:51\n",
      "completed 909 out of 1397. last is a79023a82079a7431ef2496acbef29de\n",
      "18:30:47\n",
      "completed 1010 out of 1397. last is baf842dd446ce9d7082efe16d22fb971\n",
      "18:33:49\n",
      "completed 1111 out of 1397. last is caf5e9cd994c3c90727d274dd790133a\n",
      "18:36:47\n",
      "completed 1212 out of 1397. last is de635c85f320131ee743733bb04e65b9\n",
      "18:39:40\n",
      "completed 1313 out of 1397. last is f136a3df63637b499704a49fc0e3dfaf\n",
      "CPU times: user 41min 23s, sys: 1min 19s, total: 42min 43s\n",
      "Wall time: 41min 49s\n"
     ]
    }
   ],
   "source": [
    "%%time\n",
    "\n",
    "counter = 0\n",
    "index = 0\n",
    "bscale = verticalLayers / 512.0\n",
    "\n",
    "print (time.strftime(\"%H:%M:%S\"))\n",
    "for patid in good:\n",
    "\n",
    "    path = os.path.join(images_path,patid,\"\")\n",
    "    destpath = os.path.join(scale_path,patid,\"\")\n",
    "    image = load_array(path)\n",
    "    \n",
    "    scale = verticalLayers / float(image.shape[0])\n",
    "   \n",
    "    saveImage = zoom(image,[scale,bscale,bscale])\n",
    "    save_array(destpath,saveImage)\n",
    "    \n",
    "    counter += 1\n",
    "    index += 1\n",
    "    \n",
    "    if (counter > 100 ):\n",
    "        print (time.strftime(\"%H:%M:%S\"))\n",
    "        counter = 0 \n",
    "        print(\"completed \" + str(index) + \" out of \" + str(len(good)) + \". last is \" + patid)\n",
    "   "
   ]
  },
  {
   "cell_type": "code",
   "execution_count": null,
   "metadata": {
    "collapsed": false
   },
   "outputs": [],
   "source": []
  },
  {
   "cell_type": "code",
   "execution_count": null,
   "metadata": {
    "collapsed": false,
    "scrolled": true
   },
   "outputs": [],
   "source": []
  },
  {
   "cell_type": "code",
   "execution_count": null,
   "metadata": {
    "collapsed": false
   },
   "outputs": [],
   "source": []
  },
  {
   "cell_type": "code",
   "execution_count": null,
   "metadata": {
    "collapsed": false
   },
   "outputs": [],
   "source": []
  },
  {
   "cell_type": "code",
   "execution_count": null,
   "metadata": {
    "collapsed": false
   },
   "outputs": [],
   "source": []
  },
  {
   "cell_type": "code",
   "execution_count": null,
   "metadata": {
    "collapsed": false
   },
   "outputs": [],
   "source": []
  },
  {
   "cell_type": "code",
   "execution_count": null,
   "metadata": {
    "collapsed": false
   },
   "outputs": [],
   "source": []
  }
 ],
 "metadata": {
  "anaconda-cloud": {},
  "kernelspec": {
   "display_name": "Python [conda env:lung3]",
   "language": "python",
   "name": "conda-env-lung3-py"
  },
  "language_info": {
   "codemirror_mode": {
    "name": "ipython",
    "version": 3
   },
   "file_extension": ".py",
   "mimetype": "text/x-python",
   "name": "python",
   "nbconvert_exporter": "python",
   "pygments_lexer": "ipython3",
   "version": "3.5.2"
  }
 },
 "nbformat": 4,
 "nbformat_minor": 1
}
